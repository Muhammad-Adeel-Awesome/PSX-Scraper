{
 "cells": [
  {
   "cell_type": "markdown",
   "metadata": {},
   "source": [
    "# Fetch Companies listed on PSX"
   ]
  },
  {
   "cell_type": "code",
   "execution_count": 67,
   "metadata": {},
   "outputs": [],
   "source": [
    "from itertools import chain\n",
    "\n",
    "import requests\n",
    "from bs4 import BeautifulSoup"
   ]
  },
  {
   "cell_type": "markdown",
   "metadata": {},
   "source": [
    "## Fetch Sectors"
   ]
  },
  {
   "cell_type": "code",
   "execution_count": 4,
   "metadata": {},
   "outputs": [],
   "source": [
    "URL = \"https://www.psx.com.pk/psx/resources-and-tools/listings/listed-companies\"\n",
    "LISTING_CLASS = \"notice-update-div\""
   ]
  },
  {
   "cell_type": "code",
   "execution_count": 5,
   "metadata": {},
   "outputs": [],
   "source": [
    "response = requests.get(URL)\n",
    "if not response.status_code == 200:\n",
    "    raise ValueError(f\"Error! Could not fetch page from {URL}.\")\n",
    "\n",
    "page = response.text\n",
    "soup = BeautifulSoup(page, \"lxml\")"
   ]
  },
  {
   "cell_type": "code",
   "execution_count": 6,
   "metadata": {},
   "outputs": [],
   "source": [
    "container = soup.find(class_=LISTING_CLASS)"
   ]
  },
  {
   "cell_type": "code",
   "execution_count": 7,
   "metadata": {},
   "outputs": [],
   "source": [
    "xid_container = container.find(\"input\", attrs={\"id\": \"XID\"})\n",
    "if not xid_container:\n",
    "    raise ValueError(\"Error! Could not find the XID..\")\n",
    "\n",
    "xid = xid_container.get(\"value\")"
   ]
  },
  {
   "cell_type": "code",
   "execution_count": 24,
   "metadata": {},
   "outputs": [],
   "source": [
    "sector_container = container.find(\"select\", attrs={\"name\": \"sector\"})\n",
    "if not sector_container:\n",
    "    raise ValueError(f\"Error! Could not find the sectors section in the site {URL}.\")\n",
    "\n",
    "sectors = sector_container.find_all(\"option\")\n",
    "if not sectors:\n",
    "    raise ValueError(\"Error! There aren't any sectors in the sectors section.\")\n",
    "\n",
    "sector_dict = {sector.get(\"value\"): sector.text.strip() for sector in sectors if sector.get(\"value\") != \"0\"}"
   ]
  },
  {
   "cell_type": "markdown",
   "metadata": {},
   "source": [
    "## Fetch Companies"
   ]
  },
  {
   "cell_type": "code",
   "execution_count": null,
   "metadata": {},
   "outputs": [],
   "source": [
    "COMPANY_URL = \"https://www.psx.com.pk/psx/custom-templates/companiesSearch-sector\""
   ]
  },
  {
   "cell_type": "code",
   "execution_count": 53,
   "metadata": {},
   "outputs": [],
   "source": [
    "# xid_2 = \"46afd319ff0b4dfaac5ee7de04a083f878961d1b\"\n",
    "\n",
    "headers = {\n",
    "    \"User-Agent\": \"Mozilla/5.0\",\n",
    "    \"Accept\": \"application/json\",\n",
    "    \"X-Requested-With\": \"XMLHttpRequest\",\n",
    "    \"Referer\": URL,\n",
    "}"
   ]
  },
  {
   "cell_type": "code",
   "execution_count": 63,
   "metadata": {},
   "outputs": [],
   "source": [
    "results = []\n",
    "\n",
    "for value, sector in sector_dict.items():\n",
    "    params = {\"sector\": value, \"XID\": xid}\n",
    "    response = requests.get(COMPANY_URL, headers=headers, params=params)\n",
    "    if not response.status_code == 200:\n",
    "        raise ValueError(f\"Error! Could not fetch companies against sector: {sector}\")\n",
    "    \n",
    "    results.append(response.json())\n",
    "\n",
    "results = list(chain.from_iterable(results))"
   ]
  },
  {
   "cell_type": "markdown",
   "metadata": {},
   "source": [
    "## Fetch Addresses"
   ]
  },
  {
   "cell_type": "code",
   "execution_count": 72,
   "metadata": {},
   "outputs": [],
   "source": [
    "ADDRESS_URL = \"https://www.psx.com.pk/psx/resources-and-tools/Address-Book\""
   ]
  },
  {
   "cell_type": "code",
   "execution_count": 79,
   "metadata": {},
   "outputs": [],
   "source": [
    "address_result = []\n",
    "for company in results:\n",
    "    params = {\"adrress\": company.get(\"symbol_code\"), \"XID\": xid}\n",
    "    response = requests.get(ADDRESS_URL, headers=headers, params=params)\n",
    "    if not response.status_code == 200:\n",
    "        raise ValueError(f\"Error! Could not fetch companies against sector: {sector}\")\n",
    "    \n",
    "    address_result.append(response.text.strip())\n",
    "    break"
   ]
  },
  {
   "cell_type": "code",
   "execution_count": 80,
   "metadata": {},
   "outputs": [
    {
     "data": {
      "text/plain": [
       "['<tr><td colspan=\"6\" class=\"tableHead\">Company Address Book</td></tr>\\n  <tr><td colspan=\"6\" class=\"tableSubHead\">Al-Ghazi Tractors Limited</td></tr>\\n   \\n    <tr> \\n        <tr><td>Representative</td>\\n                <td>Mr. Sakib Eltaff</td>\\n                </tr>\\n                <tr><td>Designation</td>\\n                <td>Chief Executive Officer</td>\\n                </tr>\\n                <tr><td>Company</td>\\n                <td>Al-Ghazi Tractors Limited</td>\\n                </tr>\\n                <tr><td>Address</td>\\n                <td>Tractor House, Plot No.102-B, 16th East Street , Phase-1, D.H.A., Off: Korangi Road,Karachi</td>\\n                </tr>\\n                <tr><td>Phone</td>\\n                <td>021-35318901-5</td>\\n                </tr>\\n                 <tr><td>Phone 2</td>\\n                <td></td>\\n                </tr>\\n                <tr><td>Fax</td>\\n                <td>021-35689387-35660882</td>\\n                </tr>\\n                <tr><td>Date of Listing</td>\\n                  <!--   $date = strtotime(\"2012-08-06 00:00:00\");\\necho date(\"Y-m-d\",$date); -->\\n                <td>1985-02-10</td>\\n                </tr>\\n                <tr><td>Email</td>\\n                <td>rashid.external@alghazitractors.com</td>\\n                </tr>\\n                <tr><td>URL</td>\\n                <td>www.alghazitractors.com</td>\\n                </tr>\\n                <tr><td>Registrar</td>\\n                <td>FAMCO Share Registration Services (Pvt) Limited</td>\\n                </tr>']"
      ]
     },
     "execution_count": 80,
     "metadata": {},
     "output_type": "execute_result"
    }
   ],
   "source": [
    "address_result"
   ]
  },
  {
   "cell_type": "code",
   "execution_count": null,
   "metadata": {},
   "outputs": [],
   "source": []
  }
 ],
 "metadata": {
  "kernelspec": {
   "display_name": ".venv",
   "language": "python",
   "name": "python3"
  },
  "language_info": {
   "codemirror_mode": {
    "name": "ipython",
    "version": 3
   },
   "file_extension": ".py",
   "mimetype": "text/x-python",
   "name": "python",
   "nbconvert_exporter": "python",
   "pygments_lexer": "ipython3",
   "version": "3.12.7"
  }
 },
 "nbformat": 4,
 "nbformat_minor": 2
}
