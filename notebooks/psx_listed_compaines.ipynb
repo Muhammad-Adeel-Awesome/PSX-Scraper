{
 "cells": [
  {
   "cell_type": "markdown",
   "metadata": {},
   "source": [
    "# Fetch Companies Listed on PSX"
   ]
  },
  {
   "cell_type": "code",
   "execution_count": 21,
   "metadata": {},
   "outputs": [],
   "source": [
    "from dataclasses import dataclass\n",
    "from time import perf_counter\n",
    "from typing import Optional\n",
    "\n",
    "import requests\n",
    "from bs4 import BeautifulSoup"
   ]
  },
  {
   "cell_type": "markdown",
   "metadata": {},
   "source": [
    "## Config"
   ]
  },
  {
   "cell_type": "code",
   "execution_count": 22,
   "metadata": {},
   "outputs": [],
   "source": [
    "PSX_COMPANY_LISTINGS_URL = \"https://www.psx.com.pk/psx/resources-and-tools/listings/listed-companies\"\n",
    "SECTOR_CONTAINER_CLASS = \"notice-update-div\""
   ]
  },
  {
   "cell_type": "markdown",
   "metadata": {},
   "source": [
    "## Fetch Sectors"
   ]
  },
  {
   "cell_type": "code",
   "execution_count": 49,
   "metadata": {},
   "outputs": [],
   "source": [
    "@dataclass\n",
    "class Sector:\n",
    "    id: str\n",
    "    name: str\n",
    "\n",
    "\n",
    "@dataclass\n",
    "class ListedCompany:\n",
    "    sector_id: str\n",
    "    symbol: str\n",
    "    name: str\n",
    "\n",
    "\n",
    "@dataclass\n",
    "class AddressBook:\n",
    "    company_symbol: str\n",
    "    company_name: str\n",
    "    representative: str\n",
    "    designation: str\n",
    "    address: str\n",
    "    phone: str\n",
    "    phone2: str\n",
    "    fax: str\n",
    "    date_of_listing: str\n",
    "    email: str\n",
    "    url: str\n",
    "    registrar: str"
   ]
  },
  {
   "cell_type": "code",
   "execution_count": 24,
   "metadata": {},
   "outputs": [],
   "source": [
    "def http_get_sync(\n",
    "        session: requests.Session, \n",
    "        url: str, \n",
    "        headers: Optional[dict[str, str]] = None, \n",
    "        params: Optional[dict[str, str]] = None, \n",
    "    ) -> requests.Response:\n",
    "    try:\n",
    "        response = session.get(url, headers=headers, params=params)\n",
    "        response.raise_for_status()\n",
    "        return response\n",
    "    except requests.exceptions.RequestException as err:\n",
    "        raise ValueError(f\"Error! Could not fetch the page from {url}.\") from err\n",
    "\n",
    "\n",
    "def fetch_page_content(response: requests.Response, parser=\"lxml\") -> BeautifulSoup:\n",
    "    return BeautifulSoup(response.text, parser)\n",
    "\n",
    "\n",
    "def get_element_by_class(soup: BeautifulSoup, class_name: str) -> BeautifulSoup:\n",
    "    element = soup.find(class_=class_name)\n",
    "    if element is None:\n",
    "        raise ValueError(f\"Class '{class_name}' not found in the provided HTML.\")\n",
    "    return element\n",
    "\n",
    "\n",
    "def get_xid(soup: BeautifulSoup) -> str:\n",
    "    xid_container = soup.find(\"input\", attrs={\"id\": \"XID\"})\n",
    "    if not xid_container:\n",
    "        raise ValueError(\"Error! Could not find the 'XID' input field.\")\n",
    "\n",
    "    xid = xid_container.get(\"value\")\n",
    "    if not xid:\n",
    "        raise ValueError(\"Error! 'XID' input field is present but has no value.\")\n",
    "\n",
    "    return xid\n",
    "\n",
    "\n",
    "def extract_sectors(sector_container: BeautifulSoup) -> list[Sector]:\n",
    "    sector_options = sector_container.find(\"select\", attrs={\"name\": \"sector\"})\n",
    "    if not sector_options:\n",
    "        raise ValueError(\"Error! Could not find the sector options.\")\n",
    "\n",
    "    sectors = sector_options.find_all(\"option\")\n",
    "    if not sectors:\n",
    "        raise ValueError(\"Error! There aren't any sectors in the sector options.\")\n",
    "\n",
    "    sectors = [\n",
    "        Sector(id=sector.get(\"value\"), name=sector.text.strip())\n",
    "        for sector in sectors\n",
    "        if sector.get(\"value\") != \"0\"\n",
    "    ]\n",
    "    return sectors"
   ]
  },
  {
   "cell_type": "code",
   "execution_count": 5,
   "metadata": {},
   "outputs": [],
   "source": [
    "with requests.Session() as session:\n",
    "    soup = fetch_page_content(http_get_sync(session, url=PSX_COMPANY_LISTINGS_URL))"
   ]
  },
  {
   "cell_type": "code",
   "execution_count": 6,
   "metadata": {},
   "outputs": [],
   "source": [
    "sector_container = get_element_by_class(soup, class_name=SECTOR_CONTAINER_CLASS)\n",
    "xid = get_xid(sector_container)\n",
    "sectors = extract_sectors(sector_container)"
   ]
  },
  {
   "cell_type": "markdown",
   "metadata": {},
   "source": [
    "## Fetch Companies"
   ]
  },
  {
   "cell_type": "code",
   "execution_count": null,
   "metadata": {},
   "outputs": [],
   "source": [
    "SEARCH_COMPANY_URL = \"https://www.psx.com.pk/psx/custom-templates/companiesSearch-sector\"\n",
    "\n",
    "HEADERS = {\n",
    "    \"User-Agent\": \"Mozilla/5.0\",\n",
    "    \"Accept\": \"application/json\",\n",
    "    \"X-Requested-With\": \"XMLHttpRequest\",\n",
    "    \"Referer\": PSX_COMPANY_LISTINGS_URL,\n",
    "}"
   ]
  },
  {
   "cell_type": "code",
   "execution_count": 8,
   "metadata": {},
   "outputs": [],
   "source": [
    "def fetch_listed_companies(\n",
    "    session: requests.Session,\n",
    "    sector: Sector,\n",
    "    search_url: str,\n",
    "    headers: dict[str, str],\n",
    "    xid: str,\n",
    ") -> list[ListedCompany]:\n",
    "    params = {\"sector\": sector.id, \"XID\": xid}\n",
    "    response = http_get_sync(session, search_url, headers, params)\n",
    "    companies_list = response.json()\n",
    "    return [\n",
    "        ListedCompany(sector_id=sector.id, symbol=company[\"symbol_code\"], name=company[\"company_name\"])\n",
    "        for company in companies_list\n",
    "    ]\n",
    "    \n",
    "    "
   ]
  },
  {
   "cell_type": "code",
   "execution_count": null,
   "metadata": {},
   "outputs": [],
   "source": [
    "companies = []\n",
    "with requests.Session() as session:\n",
    "    for sector in sectors:\n",
    "        companies.extend(fetch_listed_companies(session, sector, SEARCH_COMPANY_URL, HEADERS, xid))"
   ]
  },
  {
   "cell_type": "markdown",
   "metadata": {},
   "source": [
    "## Fetch Addresses"
   ]
  },
  {
   "cell_type": "code",
   "execution_count": 26,
   "metadata": {},
   "outputs": [],
   "source": [
    "SEARCH_COMPANY_ADDRESS_URL = \"https://www.psx.com.pk/psx/resources-and-tools/Address-Book\""
   ]
  },
  {
   "cell_type": "code",
   "execution_count": 42,
   "metadata": {},
   "outputs": [],
   "source": [
    "def extract_address_book(address_details: BeautifulSoup, company_symbol: str) -> AddressBook:\n",
    "    rows = address_details.find_all(\"tr\")\n",
    "\n",
    "    details = {}\n",
    "    for row in rows:\n",
    "        cols = row.find_all(\"td\")\n",
    "        if len(cols) == 2:\n",
    "            key = cols[0].get_text(strip=True)\n",
    "            value = cols[1].get_text(strip=True)\n",
    "            details[key] = value\n",
    "\n",
    "    return AddressBook(\n",
    "        company_symbol=company_symbol,\n",
    "        company_name=details.get(\"Company\", \"\"),\n",
    "        representative=details.get(\"Representative\", \"\"),\n",
    "        designation=details.get(\"Designation\", \"\"),\n",
    "        address=details.get(\"Address\", \"\"),\n",
    "        phone=details.get(\"Phone\", \"\"),\n",
    "        phone2=details.get(\"Phone 2\", \"\"),\n",
    "        fax=details.get(\"Fax\", \"\"),\n",
    "        date_of_listing=details.get(\"Date of Listing\", \"\"),\n",
    "        email=details.get(\"Email\", \"\"),\n",
    "        url=details.get(\"URL\", \"\"),\n",
    "        registrar=details.get(\"Registrar\", \"\"),\n",
    "    )"
   ]
  },
  {
   "cell_type": "code",
   "execution_count": 50,
   "metadata": {},
   "outputs": [],
   "source": [
    "address_books = []\n",
    "with requests.Session() as session:\n",
    "    for company in companies:\n",
    "        params = {\"adrress\": company.symbol, \"XID\": xid}\n",
    "        address_details = fetch_page_content(\n",
    "            http_get_sync(session, url=SEARCH_COMPANY_ADDRESS_URL, headers=HEADERS, params=params)\n",
    "        )\n",
    "        address_books.extend([extract_address_book(address_details, company.symbol)])"
   ]
  },
  {
   "cell_type": "code",
   "execution_count": null,
   "metadata": {},
   "outputs": [],
   "source": [
    "start_time = perf_counter()"
   ]
  }
 ],
 "metadata": {
  "kernelspec": {
   "display_name": ".venv",
   "language": "python",
   "name": "python3"
  },
  "language_info": {
   "codemirror_mode": {
    "name": "ipython",
    "version": 3
   },
   "file_extension": ".py",
   "mimetype": "text/x-python",
   "name": "python",
   "nbconvert_exporter": "python",
   "pygments_lexer": "ipython3",
   "version": "3.12.7"
  }
 },
 "nbformat": 4,
 "nbformat_minor": 2
}
