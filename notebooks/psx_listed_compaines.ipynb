{
 "cells": [
  {
   "cell_type": "code",
   "execution_count": 1,
   "metadata": {},
   "outputs": [],
   "source": [
    "import requests\n",
    "from bs4 import BeautifulSoup"
   ]
  },
  {
   "cell_type": "code",
   "execution_count": 2,
   "metadata": {},
   "outputs": [],
   "source": [
    "URL = \"https://www.psx.com.pk/psx/resources-and-tools/listings/listed-companies\"\n",
    "COMPANY_URL = \"https://www.psx.com.pk/psx/custom-templates/companiesSearch-sector?sector={}&XID={}\"\n",
    "\n",
    "LISTING_CLASS = \"notice-update-div\""
   ]
  },
  {
   "cell_type": "code",
   "execution_count": null,
   "metadata": {},
   "outputs": [],
   "source": [
    "response = requests.get(URL)\n",
    "if not response.status_code == 200:\n",
    "    raise ValueError(f\"Error! Could not fetch page from {URL}.\")\n",
    "\n",
    "page = response.text\n",
    "soup = BeautifulSoup(page, \"lxml\")"
   ]
  },
  {
   "cell_type": "code",
   "execution_count": 7,
   "metadata": {},
   "outputs": [],
   "source": [
    "container = soup.find(class_=LISTING_CLASS)"
   ]
  },
  {
   "cell_type": "code",
   "execution_count": 15,
   "metadata": {},
   "outputs": [],
   "source": [
    "xid_container = container.find(\"input\", attrs={\"id\": \"XID\"})\n",
    "if not xid_container:\n",
    "    raise ValueError(\"Error! Could not find the XID..\")\n",
    "\n",
    "xid = xid_container.get(\"value\")"
   ]
  },
  {
   "cell_type": "code",
   "execution_count": 26,
   "metadata": {},
   "outputs": [],
   "source": [
    "sector = container.find(\"select\", attrs={\"name\": \"sector\"})\n",
    "if not sector:\n",
    "    raise ValueError(f\"Error! Could not find the sectors section in the site {URL}.\")\n",
    "\n",
    "sector_dict = []\n",
    "for option in sector.find_all(\"option\"):\n",
    "    if option.get(\"value\") == \"0\":\n",
    "        continue\n",
    "    option_dict = {\"value\": option.get(\"value\"), \"text\": option.text.strip()}\n",
    "    sector_dict.append(option_dict)"
   ]
  },
  {
   "cell_type": "code",
   "execution_count": null,
   "metadata": {},
   "outputs": [],
   "source": []
  }
 ],
 "metadata": {
  "kernelspec": {
   "display_name": ".venv",
   "language": "python",
   "name": "python3"
  },
  "language_info": {
   "codemirror_mode": {
    "name": "ipython",
    "version": 3
   },
   "file_extension": ".py",
   "mimetype": "text/x-python",
   "name": "python",
   "nbconvert_exporter": "python",
   "pygments_lexer": "ipython3",
   "version": "3.12.7"
  }
 },
 "nbformat": 4,
 "nbformat_minor": 2
}
